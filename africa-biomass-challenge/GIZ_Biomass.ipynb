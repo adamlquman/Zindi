{
 "cells": [
  {
   "cell_type": "code",
   "execution_count": 1,
   "metadata": {
    "executionInfo": {
     "elapsed": 662,
     "status": "ok",
     "timestamp": 1674723307296,
     "user": {
      "displayName": "Nelson Mganga",
      "userId": "15984282569117459010"
     },
     "user_tz": -180
    },
    "id": "ghyAh0w20yIH"
   },
   "outputs": [],
   "source": [
    "import h5py\n",
    "import matplotlib.pyplot as plt\n",
    "import pandas as pd\n",
    "import numpy as np\n",
    "import warnings\n",
    "warnings.filterwarnings('ignore')"
   ]
  },
  {
   "cell_type": "code",
   "execution_count": 2,
   "metadata": {
    "executionInfo": {
     "elapsed": 15503,
     "status": "ok",
     "timestamp": 1674723322797,
     "user": {
      "displayName": "Nelson Mganga",
      "userId": "15984282569117459010"
     },
     "user_tz": -180
    },
    "id": "FSbBd9XiQ5q5"
   },
   "outputs": [],
   "source": [
    "!wget -q  https://share.phys.ethz.ch/~pf/albecker/abc/09072022_1154_train.h5\n",
    "!wget -q  https://share.phys.ethz.ch/~pf/albecker/abc/09072022_1154_val.h5\n",
    "!wget -q https://share.phys.ethz.ch/~pf/albecker/abc/09072022_1154_test.h5"
   ]
  },
  {
   "cell_type": "code",
   "execution_count": 3,
   "metadata": {
    "executionInfo": {
     "elapsed": 7,
     "status": "ok",
     "timestamp": 1674723322798,
     "user": {
      "displayName": "Nelson Mganga",
      "userId": "15984282569117459010"
     },
     "user_tz": -180
    },
    "id": "k3ZQRlZOQ65B"
   },
   "outputs": [],
   "source": [
    "trainset = h5py.File(\"09072022_1154_train.h5\", \"r\")\n",
    "validateset = h5py.File(\"09072022_1154_val.h5\", \"r\")\n",
    "testset = h5py.File(\"09072022_1154_test.h5\", \"r\")"
   ]
  },
  {
   "cell_type": "code",
   "execution_count": 4,
   "metadata": {
    "colab": {
     "base_uri": "https://localhost:8080/"
    },
    "executionInfo": {
     "elapsed": 6,
     "status": "ok",
     "timestamp": 1674723322798,
     "user": {
      "displayName": "Nelson Mganga",
      "userId": "15984282569117459010"
     },
     "user_tz": -180
    },
    "id": "sQnKRSw9RDu6",
    "outputId": "3db2d7d8-aee9-4a1a-a8a2-bcf59fff71ee"
   },
   "outputs": [
    {
     "data": {
      "text/plain": [
       "<KeysViewHDF5 ['agbd', 'cloud', 'images', 'lat', 'lon', 'scl']>"
      ]
     },
     "execution_count": 4,
     "metadata": {},
     "output_type": "execute_result"
    }
   ],
   "source": [
    "# attributes of trainset\n",
    "trainset.keys()"
   ]
  },
  {
   "cell_type": "markdown",
   "metadata": {
    "id": "2rKhoGtGR1Xu"
   },
   "source": [
    "## Explore datasets"
   ]
  },
  {
   "cell_type": "code",
   "execution_count": 5,
   "metadata": {
    "executionInfo": {
     "elapsed": 1089,
     "status": "ok",
     "timestamp": 1674723355639,
     "user": {
      "displayName": "Nelson Mganga",
      "userId": "15984282569117459010"
     },
     "user_tz": -180
    },
    "id": "YgOvKhevSGNV"
   },
   "outputs": [],
   "source": [
    "# train\n",
    "train_images = np.array(trainset['images'],dtype=np.float64)\n",
    "train_images = train_images.transpose(0,3,1,2)\n",
    "\n",
    "train_biomasses = np.array(trainset['agbd'],dtype=np.float64)\n",
    "\n",
    "# validate\n",
    "validate_images = np.array(validateset['images'],dtype=np.float64)\n",
    "validate_images = validate_images.transpose(0,3,1,2)\n",
    "validate_biomasses = np.array(validateset['agbd'],dtype=np.float64)\n",
    "\n",
    "# test \n",
    "test_images = np.array(testset['images'],dtype=np.float32)\n",
    "test_images = test_images.transpose(0,3,1,2)\n",
    "test_biomasses = np.array(testset['agbd'],dtype=np.float32)"
   ]
  },
  {
   "cell_type": "code",
   "execution_count": 6,
   "metadata": {
    "colab": {
     "base_uri": "https://localhost:8080/"
    },
    "executionInfo": {
     "elapsed": 2,
     "status": "ok",
     "timestamp": 1674723355639,
     "user": {
      "displayName": "Nelson Mganga",
      "userId": "15984282569117459010"
     },
     "user_tz": -180
    },
    "id": "Ps-9IeIgSJ4w",
    "outputId": "8ed5a021-0c63-4eab-b4ac-1095c4158ee6"
   },
   "outputs": [
    {
     "name": "stdout",
     "output_type": "stream",
     "text": [
      "train dataset size (25036, 12, 15, 15) train lab size (25036,)\n",
      "\n",
      "validate dataset size (5174, 12, 15, 15) validate lab size (5174,)\n",
      "\n",
      "test dataset size (5190, 12, 15, 15) test lab size (5190,)\n"
     ]
    }
   ],
   "source": [
    "print(f\"train dataset size {train_images.shape} train lab size {train_biomasses.shape}\")\n",
    "print()\n",
    "print(f\"validate dataset size {validate_images.shape} validate lab size {validate_biomasses.shape}\")\n",
    "print()\n",
    "print(f\"test dataset size {test_images.shape} test lab size {test_biomasses.shape}\")"
   ]
  },
  {
   "cell_type": "markdown",
   "metadata": {
    "id": "SYkqo_nDQlzS"
   },
   "source": [
    "# First Baseline With Sklearn"
   ]
  },
  {
   "cell_type": "code",
   "execution_count": 11,
   "metadata": {
    "executionInfo": {
     "elapsed": 1159,
     "status": "ok",
     "timestamp": 1674723364234,
     "user": {
      "displayName": "Nelson Mganga",
      "userId": "15984282569117459010"
     },
     "user_tz": -180
    },
    "id": "is7xLI-1VzAW"
   },
   "outputs": [],
   "source": [
    "from sklearn.linear_model import LinearRegression,Ridge,Lasso\n",
    "from sklearn.svm import LinearSVR\n",
    "from sklearn.neighbors import KNeighborsRegressor\n",
    "from sklearn.ensemble import RandomForestRegressor, GradientBoostingRegressor\n",
    "from sklearn.model_selection import GridSearchCV\n",
    "from sklearn.pipeline import Pipeline\n",
    "from sklearn.metrics import mean_squared_error\n",
    "from sklearn import model_selection\n",
    "from sklearn.compose import ColumnTransformer\n",
    "from sklearn.impute import SimpleImputer\n",
    "from sklearn.preprocessing import StandardScaler\n",
    "from sklearn.base import BaseEstimator, TransformerMixin"
   ]
  },
  {
   "cell_type": "code",
   "execution_count": 12,
   "metadata": {
    "executionInfo": {
     "elapsed": 3,
     "status": "ok",
     "timestamp": 1674723364234,
     "user": {
      "displayName": "Nelson Mganga",
      "userId": "15984282569117459010"
     },
     "user_tz": -180
    },
    "id": "t54SAWW6pr1S"
   },
   "outputs": [],
   "source": [
    "from sklearn import set_config\n",
    "set_config(display='diagram')"
   ]
  },
  {
   "cell_type": "markdown",
   "metadata": {
    "id": "PVAxS2EwqKiW"
   },
   "source": [
    "## Modelisation"
   ]
  },
  {
   "cell_type": "markdown",
   "metadata": {
    "id": "wtNBm3d1qM1x"
   },
   "source": [
    "### Pipeline of training"
   ]
  },
  {
   "cell_type": "code",
   "execution_count": 13,
   "metadata": {
    "executionInfo": {
     "elapsed": 1133,
     "status": "ok",
     "timestamp": 1674723365365,
     "user": {
      "displayName": "Nelson Mganga",
      "userId": "15984282569117459010"
     },
     "user_tz": -180
    },
    "id": "T3OrinVvV3-8"
   },
   "outputs": [],
   "source": [
    "# constante for standardization\n",
    "MEAN = train_images.mean((0,2,3))\n",
    "STD = train_images.std((0,2,3))"
   ]
  },
  {
   "cell_type": "code",
   "execution_count": 14,
   "metadata": {
    "executionInfo": {
     "elapsed": 3,
     "status": "ok",
     "timestamp": 1674723365366,
     "user": {
      "displayName": "Nelson Mganga",
      "userId": "15984282569117459010"
     },
     "user_tz": -180
    },
    "id": "FC2Gb-3cQDcO"
   },
   "outputs": [],
   "source": [
    "class CustomScaler(BaseEstimator, TransformerMixin):\n",
    "  def __init__(self,mean,std):\n",
    "    self.mean = mean\n",
    "    self.std = std\n",
    "  \n",
    "  def fit(self, X, y=None):\n",
    "    #self.mean = X.mean((0,2,3)) \n",
    "    #self.std = X.std((0,2,3))\n",
    "    return self\n",
    "\n",
    "  def transform(self, X, y=None):\n",
    "    return (X-self.mean[None,:,None,None])/self.std[None,:,None,None] \n",
    "\n",
    "    \n",
    "class FlattenTransformer(BaseEstimator, TransformerMixin):\n",
    "\n",
    "  def fit(self, X, y=None):\n",
    "    return self\n",
    "\n",
    "  def transform(self, X, y=None):\n",
    "    return X.reshape((X.shape[0], -1))\n",
    "\n",
    "\n",
    "pipe = Pipeline(steps=[(\"scaler\", CustomScaler(MEAN,STD)),\n",
    "                       (\"flatten\", FlattenTransformer()),\n",
    "                       (\"classifier\", Lasso())\n",
    "])"
   ]
  },
  {
   "cell_type": "code",
   "execution_count": 15,
   "metadata": {
    "colab": {
     "base_uri": "https://localhost:8080/",
     "height": 161
    },
    "executionInfo": {
     "elapsed": 20200,
     "status": "ok",
     "timestamp": 1674723385564,
     "user": {
      "displayName": "Nelson Mganga",
      "userId": "15984282569117459010"
     },
     "user_tz": -180
    },
    "id": "Ii56ZHoXmx5p",
    "outputId": "b73d8188-1e69-4638-ea51-f073140281db"
   },
   "outputs": [
    {
     "data": {
      "text/html": [
       "<style>#sk-decbd293-7d1c-4a07-8035-768f7e275005 {color: black;background-color: white;}#sk-decbd293-7d1c-4a07-8035-768f7e275005 pre{padding: 0;}#sk-decbd293-7d1c-4a07-8035-768f7e275005 div.sk-toggleable {background-color: white;}#sk-decbd293-7d1c-4a07-8035-768f7e275005 label.sk-toggleable__label {cursor: pointer;display: block;width: 100%;margin-bottom: 0;padding: 0.3em;box-sizing: border-box;text-align: center;}#sk-decbd293-7d1c-4a07-8035-768f7e275005 label.sk-toggleable__label-arrow:before {content: \"▸\";float: left;margin-right: 0.25em;color: #696969;}#sk-decbd293-7d1c-4a07-8035-768f7e275005 label.sk-toggleable__label-arrow:hover:before {color: black;}#sk-decbd293-7d1c-4a07-8035-768f7e275005 div.sk-estimator:hover label.sk-toggleable__label-arrow:before {color: black;}#sk-decbd293-7d1c-4a07-8035-768f7e275005 div.sk-toggleable__content {max-height: 0;max-width: 0;overflow: hidden;text-align: left;background-color: #f0f8ff;}#sk-decbd293-7d1c-4a07-8035-768f7e275005 div.sk-toggleable__content pre {margin: 0.2em;color: black;border-radius: 0.25em;background-color: #f0f8ff;}#sk-decbd293-7d1c-4a07-8035-768f7e275005 input.sk-toggleable__control:checked~div.sk-toggleable__content {max-height: 200px;max-width: 100%;overflow: auto;}#sk-decbd293-7d1c-4a07-8035-768f7e275005 input.sk-toggleable__control:checked~label.sk-toggleable__label-arrow:before {content: \"▾\";}#sk-decbd293-7d1c-4a07-8035-768f7e275005 div.sk-estimator input.sk-toggleable__control:checked~label.sk-toggleable__label {background-color: #d4ebff;}#sk-decbd293-7d1c-4a07-8035-768f7e275005 div.sk-label input.sk-toggleable__control:checked~label.sk-toggleable__label {background-color: #d4ebff;}#sk-decbd293-7d1c-4a07-8035-768f7e275005 input.sk-hidden--visually {border: 0;clip: rect(1px 1px 1px 1px);clip: rect(1px, 1px, 1px, 1px);height: 1px;margin: -1px;overflow: hidden;padding: 0;position: absolute;width: 1px;}#sk-decbd293-7d1c-4a07-8035-768f7e275005 div.sk-estimator {font-family: monospace;background-color: #f0f8ff;border: 1px dotted black;border-radius: 0.25em;box-sizing: border-box;margin-bottom: 0.5em;}#sk-decbd293-7d1c-4a07-8035-768f7e275005 div.sk-estimator:hover {background-color: #d4ebff;}#sk-decbd293-7d1c-4a07-8035-768f7e275005 div.sk-parallel-item::after {content: \"\";width: 100%;border-bottom: 1px solid gray;flex-grow: 1;}#sk-decbd293-7d1c-4a07-8035-768f7e275005 div.sk-label:hover label.sk-toggleable__label {background-color: #d4ebff;}#sk-decbd293-7d1c-4a07-8035-768f7e275005 div.sk-serial::before {content: \"\";position: absolute;border-left: 1px solid gray;box-sizing: border-box;top: 2em;bottom: 0;left: 50%;}#sk-decbd293-7d1c-4a07-8035-768f7e275005 div.sk-serial {display: flex;flex-direction: column;align-items: center;background-color: white;padding-right: 0.2em;padding-left: 0.2em;}#sk-decbd293-7d1c-4a07-8035-768f7e275005 div.sk-item {z-index: 1;}#sk-decbd293-7d1c-4a07-8035-768f7e275005 div.sk-parallel {display: flex;align-items: stretch;justify-content: center;background-color: white;}#sk-decbd293-7d1c-4a07-8035-768f7e275005 div.sk-parallel::before {content: \"\";position: absolute;border-left: 1px solid gray;box-sizing: border-box;top: 2em;bottom: 0;left: 50%;}#sk-decbd293-7d1c-4a07-8035-768f7e275005 div.sk-parallel-item {display: flex;flex-direction: column;position: relative;background-color: white;}#sk-decbd293-7d1c-4a07-8035-768f7e275005 div.sk-parallel-item:first-child::after {align-self: flex-end;width: 50%;}#sk-decbd293-7d1c-4a07-8035-768f7e275005 div.sk-parallel-item:last-child::after {align-self: flex-start;width: 50%;}#sk-decbd293-7d1c-4a07-8035-768f7e275005 div.sk-parallel-item:only-child::after {width: 0;}#sk-decbd293-7d1c-4a07-8035-768f7e275005 div.sk-dashed-wrapped {border: 1px dashed gray;margin: 0 0.4em 0.5em 0.4em;box-sizing: border-box;padding-bottom: 0.4em;background-color: white;position: relative;}#sk-decbd293-7d1c-4a07-8035-768f7e275005 div.sk-label label {font-family: monospace;font-weight: bold;background-color: white;display: inline-block;line-height: 1.2em;}#sk-decbd293-7d1c-4a07-8035-768f7e275005 div.sk-label-container {position: relative;z-index: 2;text-align: center;}#sk-decbd293-7d1c-4a07-8035-768f7e275005 div.sk-container {/* jupyter's `normalize.less` sets `[hidden] { display: none; }` but bootstrap.min.css set `[hidden] { display: none !important; }` so we also need the `!important` here to be able to override the default hidden behavior on the sphinx rendered scikit-learn.org. See: https://github.com/scikit-learn/scikit-learn/issues/21755 */display: inline-block !important;position: relative;}#sk-decbd293-7d1c-4a07-8035-768f7e275005 div.sk-text-repr-fallback {display: none;}</style><div id=\"sk-decbd293-7d1c-4a07-8035-768f7e275005\" class=\"sk-top-container\"><div class=\"sk-text-repr-fallback\"><pre>Pipeline(steps=[(&#x27;scaler&#x27;,\n",
       "                 CustomScaler(mean=array([ 644.62522678,  675.00465197,  887.51322647,  649.01398076,\n",
       "       1230.65511708, 3005.58275568, 3717.91194245, 3626.2871387 ,\n",
       "       3999.28166498, 4109.51322682, 2262.52644121, 1253.58153468]),\n",
       "                              std=array([ 575.97684675,  570.30180631,  536.11125314,  550.22417005,\n",
       "        557.76750885,  777.03590322,  935.15224447,  949.36012986,\n",
       "        988.61001558, 1096.67397739,  671.68692054,  590.6012704 ]))),\n",
       "                (&#x27;flatten&#x27;, FlattenTransformer()), (&#x27;classifier&#x27;, Lasso())])</pre><b>Please rerun this cell to show the HTML repr or trust the notebook.</b></div><div class=\"sk-container\" hidden><div class=\"sk-item sk-dashed-wrapped\"><div class=\"sk-label-container\"><div class=\"sk-label sk-toggleable\"><input class=\"sk-toggleable__control sk-hidden--visually\" id=\"35fee605-1727-4444-888f-07c49957db88\" type=\"checkbox\" ><label for=\"35fee605-1727-4444-888f-07c49957db88\" class=\"sk-toggleable__label sk-toggleable__label-arrow\">Pipeline</label><div class=\"sk-toggleable__content\"><pre>Pipeline(steps=[(&#x27;scaler&#x27;,\n",
       "                 CustomScaler(mean=array([ 644.62522678,  675.00465197,  887.51322647,  649.01398076,\n",
       "       1230.65511708, 3005.58275568, 3717.91194245, 3626.2871387 ,\n",
       "       3999.28166498, 4109.51322682, 2262.52644121, 1253.58153468]),\n",
       "                              std=array([ 575.97684675,  570.30180631,  536.11125314,  550.22417005,\n",
       "        557.76750885,  777.03590322,  935.15224447,  949.36012986,\n",
       "        988.61001558, 1096.67397739,  671.68692054,  590.6012704 ]))),\n",
       "                (&#x27;flatten&#x27;, FlattenTransformer()), (&#x27;classifier&#x27;, Lasso())])</pre></div></div></div><div class=\"sk-serial\"><div class=\"sk-item\"><div class=\"sk-estimator sk-toggleable\"><input class=\"sk-toggleable__control sk-hidden--visually\" id=\"2402e8a0-80d6-4897-a591-56574b257ec4\" type=\"checkbox\" ><label for=\"2402e8a0-80d6-4897-a591-56574b257ec4\" class=\"sk-toggleable__label sk-toggleable__label-arrow\">CustomScaler</label><div class=\"sk-toggleable__content\"><pre>CustomScaler(mean=array([ 644.62522678,  675.00465197,  887.51322647,  649.01398076,\n",
       "       1230.65511708, 3005.58275568, 3717.91194245, 3626.2871387 ,\n",
       "       3999.28166498, 4109.51322682, 2262.52644121, 1253.58153468]),\n",
       "             std=array([ 575.97684675,  570.30180631,  536.11125314,  550.22417005,\n",
       "        557.76750885,  777.03590322,  935.15224447,  949.36012986,\n",
       "        988.61001558, 1096.67397739,  671.68692054,  590.6012704 ]))</pre></div></div></div><div class=\"sk-item\"><div class=\"sk-estimator sk-toggleable\"><input class=\"sk-toggleable__control sk-hidden--visually\" id=\"c25b221f-83fb-493e-87ee-bdaaf7d84df6\" type=\"checkbox\" ><label for=\"c25b221f-83fb-493e-87ee-bdaaf7d84df6\" class=\"sk-toggleable__label sk-toggleable__label-arrow\">FlattenTransformer</label><div class=\"sk-toggleable__content\"><pre>FlattenTransformer()</pre></div></div></div><div class=\"sk-item\"><div class=\"sk-estimator sk-toggleable\"><input class=\"sk-toggleable__control sk-hidden--visually\" id=\"9f21d7cc-1eef-4695-b75c-948b8fc1f609\" type=\"checkbox\" ><label for=\"9f21d7cc-1eef-4695-b75c-948b8fc1f609\" class=\"sk-toggleable__label sk-toggleable__label-arrow\">Lasso</label><div class=\"sk-toggleable__content\"><pre>Lasso()</pre></div></div></div></div></div></div></div>"
      ],
      "text/plain": [
       "Pipeline(steps=[('scaler',\n",
       "                 CustomScaler(mean=array([ 644.62522678,  675.00465197,  887.51322647,  649.01398076,\n",
       "       1230.65511708, 3005.58275568, 3717.91194245, 3626.2871387 ,\n",
       "       3999.28166498, 4109.51322682, 2262.52644121, 1253.58153468]),\n",
       "                              std=array([ 575.97684675,  570.30180631,  536.11125314,  550.22417005,\n",
       "        557.76750885,  777.03590322,  935.15224447,  949.36012986,\n",
       "        988.61001558, 1096.67397739,  671.68692054,  590.6012704 ]))),\n",
       "                ('flatten', FlattenTransformer()), ('classifier', Lasso())])"
      ]
     },
     "execution_count": 15,
     "metadata": {},
     "output_type": "execute_result"
    }
   ],
   "source": [
    "pipe.fit(train_images,train_biomasses)"
   ]
  },
  {
   "cell_type": "code",
   "execution_count": 16,
   "metadata": {
    "colab": {
     "base_uri": "https://localhost:8080/"
    },
    "executionInfo": {
     "elapsed": 683,
     "status": "ok",
     "timestamp": 1674723386245,
     "user": {
      "displayName": "Nelson Mganga",
      "userId": "15984282569117459010"
     },
     "user_tz": -180
    },
    "id": "61dZDV4Dmx-h",
    "outputId": "d27f2c70-ac67-4309-a9bb-3d0625213bbc"
   },
   "outputs": [
    {
     "data": {
      "text/plain": [
       "3023.555305378208"
      ]
     },
     "execution_count": 16,
     "metadata": {},
     "output_type": "execute_result"
    }
   ],
   "source": [
    "# predict\n",
    "pred_train = pipe.predict(train_images)\n",
    "\n",
    "# train mse error\n",
    "mse = mean_squared_error(train_biomasses, pred_train) \n",
    "mse\n",
    "rmse = np.sqrt(mse)"
   ]
  },
  {
   "cell_type": "code",
   "execution_count": 17,
   "metadata": {
    "colab": {
     "base_uri": "https://localhost:8080/"
    },
    "executionInfo": {
     "elapsed": 3,
     "status": "ok",
     "timestamp": 1674723386245,
     "user": {
      "displayName": "Nelson Mganga",
      "userId": "15984282569117459010"
     },
     "user_tz": -180
    },
    "id": "T17ZqXTop6DJ",
    "outputId": "c38c43a0-719d-477d-f241-5edf2dcc918b"
   },
   "outputs": [
    {
     "data": {
      "text/plain": [
       "3961.942859655493"
      ]
     },
     "execution_count": 17,
     "metadata": {},
     "output_type": "execute_result"
    }
   ],
   "source": [
    "# predict\n",
    "pred_validate = pipe.predict(validate_images)\n",
    "\n",
    "#  validate mse error\n",
    "mse = mean_squared_error(validate_biomasses, pred_validate) \n",
    "mse\n",
    "rmse = np.sqrt(mse)"
   ]
  },
  {
   "cell_type": "code",
   "execution_count": null,
   "metadata": {},
   "outputs": [],
   "source": [
    "# predict\n",
    "pred_validate = pipe.predict(test_images)\n",
    "\n",
    "#  validate mse error\n",
    "mse = mean_squared_error(test_biomasses, pred_validate) \n",
    "mse\n",
    "rmse = np.sqrt(mse)"
   ]
  },
  {
   "cell_type": "code",
   "execution_count": null,
   "metadata": {
    "id": "ptJz-yeCNYzM"
   },
   "outputs": [],
   "source": [
    "pipeline = pipe = Pipeline(steps=[(\"scaler\", CustomScaler(MEAN,STD)),\n",
    "                       (\"flatten\", FlattenTransformer()),\n",
    "                       (\"classifier\", LinearRegression())])\n"
   ]
  },
  {
   "cell_type": "code",
   "execution_count": null,
   "metadata": {
    "id": "f3NqYDHctRC5"
   },
   "outputs": [],
   "source": [
    "# Train the grid search model\n",
    "model(pipeline)"
   ]
  },
  {
   "cell_type": "code",
   "execution_count": null,
   "metadata": {
    "id": "Ohdx1LKttk2y"
   },
   "outputs": [],
   "source": [
    "model = Lasso()\n",
    "model.fit(train_images,train_biomasses)\n",
    "# predict\n",
    "pred = model.predict(train_images)\n",
    "\n",
    "# validate mse error\n",
    "mse = mean_squared_error(train_biomasses, pred) \n",
    "rmse = np.sqrt(mse)\n",
    "\n",
    "print(mse, rmse)"
   ]
  },
  {
   "cell_type": "code",
   "execution_count": null,
   "metadata": {
    "id": "3vFO06ZYISof"
   },
   "outputs": [],
   "source": [
    "# predict\n",
    "pred = model.predict(validate_images)\n",
    "\n",
    "# validate mse error\n",
    "mse = mean_squared_error(validate_biomasses, pred) \n",
    "rmse = np.sqrt(mse)\n",
    "\n",
    "print(mse, rmse)"
   ]
  },
  {
   "cell_type": "markdown",
   "metadata": {
    "id": "pdAypOP5BkR_"
   },
   "source": [
    "### Predict GIZ Biomass"
   ]
  },
  {
   "cell_type": "code",
   "execution_count": 18,
   "metadata": {
    "executionInfo": {
     "elapsed": 416,
     "status": "ok",
     "timestamp": 1674723578973,
     "user": {
      "displayName": "Nelson Mganga",
      "userId": "15984282569117459010"
     },
     "user_tz": -180
    },
    "id": "5LDX4p2XBoz2"
   },
   "outputs": [],
   "source": [
    "s2_images_h5 = h5py.File(\"/content/images_test.h5\", \"r\")"
   ]
  },
  {
   "cell_type": "code",
   "execution_count": 19,
   "metadata": {
    "executionInfo": {
     "elapsed": 1,
     "status": "ok",
     "timestamp": 1674723580772,
     "user": {
      "displayName": "Nelson Mganga",
      "userId": "15984282569117459010"
     },
     "user_tz": -180
    },
    "id": "PG3shy0oDS4A"
   },
   "outputs": [],
   "source": [
    "#prepare test set sentinel 2 images \n",
    "s2_images = np.array(s2_images_h5[\"images\"])\n",
    "s2_images = s2_images.transpose(0,3,1,2)"
   ]
  },
  {
   "cell_type": "code",
   "execution_count": 20,
   "metadata": {
    "executionInfo": {
     "elapsed": 2,
     "status": "ok",
     "timestamp": 1674723582520,
     "user": {
      "displayName": "Nelson Mganga",
      "userId": "15984282569117459010"
     },
     "user_tz": -180
    },
    "id": "F5uan3E8DpEU"
   },
   "outputs": [],
   "source": [
    "# predict on giz test data\n",
    "pred_giz = pipe.predict(s2_images)"
   ]
  },
  {
   "cell_type": "code",
   "execution_count": 21,
   "metadata": {
    "executionInfo": {
     "elapsed": 427,
     "status": "ok",
     "timestamp": 1674723586040,
     "user": {
      "displayName": "Nelson Mganga",
      "userId": "15984282569117459010"
     },
     "user_tz": -180
    },
    "id": "WD4IyJWvGgzo"
   },
   "outputs": [],
   "source": [
    "ID_S2_pair = pd.read_csv('/content/UniqueID-SentinelPair.csv')\n",
    "\n",
    "preds = pd.DataFrame({'Target':pred_giz}).rename_axis('S2_idx').reset_index()\n",
    "preds = ID_S2_pair.merge(preds, on='S2_idx').drop(columns=['S2_idx'])"
   ]
  },
  {
   "cell_type": "code",
   "execution_count": 23,
   "metadata": {
    "executionInfo": {
     "elapsed": 450,
     "status": "ok",
     "timestamp": 1674723608727,
     "user": {
      "displayName": "Nelson Mganga",
      "userId": "15984282569117459010"
     },
     "user_tz": -180
    },
    "id": "_zMlJsmG-rMO"
   },
   "outputs": [],
   "source": [
    "preds.to_csv('GIZ_Biomass_predictions.csv', index=False)"
   ]
  },
  {
   "cell_type": "code",
   "execution_count": 22,
   "metadata": {
    "colab": {
     "base_uri": "https://localhost:8080/",
     "height": 424
    },
    "executionInfo": {
     "elapsed": 524,
     "status": "ok",
     "timestamp": 1674723601203,
     "user": {
      "displayName": "Nelson Mganga",
      "userId": "15984282569117459010"
     },
     "user_tz": -180
    },
    "id": "9AYlcFAhTiHi",
    "outputId": "e7363c71-f2fa-4b7b-add6-945aa96ad803"
   },
   "outputs": [
    {
     "data": {
      "text/html": [
       "\n",
       "  <div id=\"df-e348ef58-bb68-4bb6-9363-6a4ef3a46b4b\">\n",
       "    <div class=\"colab-df-container\">\n",
       "      <div>\n",
       "<style scoped>\n",
       "    .dataframe tbody tr th:only-of-type {\n",
       "        vertical-align: middle;\n",
       "    }\n",
       "\n",
       "    .dataframe tbody tr th {\n",
       "        vertical-align: top;\n",
       "    }\n",
       "\n",
       "    .dataframe thead th {\n",
       "        text-align: right;\n",
       "    }\n",
       "</style>\n",
       "<table border=\"1\" class=\"dataframe\">\n",
       "  <thead>\n",
       "    <tr style=\"text-align: right;\">\n",
       "      <th></th>\n",
       "      <th>ID</th>\n",
       "      <th>Target</th>\n",
       "    </tr>\n",
       "  </thead>\n",
       "  <tbody>\n",
       "    <tr>\n",
       "      <th>0</th>\n",
       "      <td>ID_1EB0DGFP07</td>\n",
       "      <td>26.220862</td>\n",
       "    </tr>\n",
       "    <tr>\n",
       "      <th>1</th>\n",
       "      <td>ID_844T2PSXTK</td>\n",
       "      <td>39.863222</td>\n",
       "    </tr>\n",
       "    <tr>\n",
       "      <th>2</th>\n",
       "      <td>ID_4MCV3S8MLN</td>\n",
       "      <td>39.037564</td>\n",
       "    </tr>\n",
       "    <tr>\n",
       "      <th>3</th>\n",
       "      <td>ID_L7441JV5F3</td>\n",
       "      <td>41.643822</td>\n",
       "    </tr>\n",
       "    <tr>\n",
       "      <th>4</th>\n",
       "      <td>ID_5GUVM4YEWZ</td>\n",
       "      <td>42.443223</td>\n",
       "    </tr>\n",
       "    <tr>\n",
       "      <th>...</th>\n",
       "      <td>...</td>\n",
       "      <td>...</td>\n",
       "    </tr>\n",
       "    <tr>\n",
       "      <th>85</th>\n",
       "      <td>ID_MEW6189J1B</td>\n",
       "      <td>54.941441</td>\n",
       "    </tr>\n",
       "    <tr>\n",
       "      <th>86</th>\n",
       "      <td>ID_TH9HRUXGTP</td>\n",
       "      <td>47.551169</td>\n",
       "    </tr>\n",
       "    <tr>\n",
       "      <th>87</th>\n",
       "      <td>ID_GPC7YS3JG8</td>\n",
       "      <td>55.395363</td>\n",
       "    </tr>\n",
       "    <tr>\n",
       "      <th>88</th>\n",
       "      <td>ID_1P7PJMPV0R</td>\n",
       "      <td>35.624857</td>\n",
       "    </tr>\n",
       "    <tr>\n",
       "      <th>89</th>\n",
       "      <td>ID_NTFSOIOEOG</td>\n",
       "      <td>55.988167</td>\n",
       "    </tr>\n",
       "  </tbody>\n",
       "</table>\n",
       "<p>90 rows × 2 columns</p>\n",
       "</div>\n",
       "      <button class=\"colab-df-convert\" onclick=\"convertToInteractive('df-e348ef58-bb68-4bb6-9363-6a4ef3a46b4b')\"\n",
       "              title=\"Convert this dataframe to an interactive table.\"\n",
       "              style=\"display:none;\">\n",
       "        \n",
       "  <svg xmlns=\"http://www.w3.org/2000/svg\" height=\"24px\"viewBox=\"0 0 24 24\"\n",
       "       width=\"24px\">\n",
       "    <path d=\"M0 0h24v24H0V0z\" fill=\"none\"/>\n",
       "    <path d=\"M18.56 5.44l.94 2.06.94-2.06 2.06-.94-2.06-.94-.94-2.06-.94 2.06-2.06.94zm-11 1L8.5 8.5l.94-2.06 2.06-.94-2.06-.94L8.5 2.5l-.94 2.06-2.06.94zm10 10l.94 2.06.94-2.06 2.06-.94-2.06-.94-.94-2.06-.94 2.06-2.06.94z\"/><path d=\"M17.41 7.96l-1.37-1.37c-.4-.4-.92-.59-1.43-.59-.52 0-1.04.2-1.43.59L10.3 9.45l-7.72 7.72c-.78.78-.78 2.05 0 2.83L4 21.41c.39.39.9.59 1.41.59.51 0 1.02-.2 1.41-.59l7.78-7.78 2.81-2.81c.8-.78.8-2.07 0-2.86zM5.41 20L4 18.59l7.72-7.72 1.47 1.35L5.41 20z\"/>\n",
       "  </svg>\n",
       "      </button>\n",
       "      \n",
       "  <style>\n",
       "    .colab-df-container {\n",
       "      display:flex;\n",
       "      flex-wrap:wrap;\n",
       "      gap: 12px;\n",
       "    }\n",
       "\n",
       "    .colab-df-convert {\n",
       "      background-color: #E8F0FE;\n",
       "      border: none;\n",
       "      border-radius: 50%;\n",
       "      cursor: pointer;\n",
       "      display: none;\n",
       "      fill: #1967D2;\n",
       "      height: 32px;\n",
       "      padding: 0 0 0 0;\n",
       "      width: 32px;\n",
       "    }\n",
       "\n",
       "    .colab-df-convert:hover {\n",
       "      background-color: #E2EBFA;\n",
       "      box-shadow: 0px 1px 2px rgba(60, 64, 67, 0.3), 0px 1px 3px 1px rgba(60, 64, 67, 0.15);\n",
       "      fill: #174EA6;\n",
       "    }\n",
       "\n",
       "    [theme=dark] .colab-df-convert {\n",
       "      background-color: #3B4455;\n",
       "      fill: #D2E3FC;\n",
       "    }\n",
       "\n",
       "    [theme=dark] .colab-df-convert:hover {\n",
       "      background-color: #434B5C;\n",
       "      box-shadow: 0px 1px 3px 1px rgba(0, 0, 0, 0.15);\n",
       "      filter: drop-shadow(0px 1px 2px rgba(0, 0, 0, 0.3));\n",
       "      fill: #FFFFFF;\n",
       "    }\n",
       "  </style>\n",
       "\n",
       "      <script>\n",
       "        const buttonEl =\n",
       "          document.querySelector('#df-e348ef58-bb68-4bb6-9363-6a4ef3a46b4b button.colab-df-convert');\n",
       "        buttonEl.style.display =\n",
       "          google.colab.kernel.accessAllowed ? 'block' : 'none';\n",
       "\n",
       "        async function convertToInteractive(key) {\n",
       "          const element = document.querySelector('#df-e348ef58-bb68-4bb6-9363-6a4ef3a46b4b');\n",
       "          const dataTable =\n",
       "            await google.colab.kernel.invokeFunction('convertToInteractive',\n",
       "                                                     [key], {});\n",
       "          if (!dataTable) return;\n",
       "\n",
       "          const docLinkHtml = 'Like what you see? Visit the ' +\n",
       "            '<a target=\"_blank\" href=https://colab.research.google.com/notebooks/data_table.ipynb>data table notebook</a>'\n",
       "            + ' to learn more about interactive tables.';\n",
       "          element.innerHTML = '';\n",
       "          dataTable['output_type'] = 'display_data';\n",
       "          await google.colab.output.renderOutput(dataTable, element);\n",
       "          const docLink = document.createElement('div');\n",
       "          docLink.innerHTML = docLinkHtml;\n",
       "          element.appendChild(docLink);\n",
       "        }\n",
       "      </script>\n",
       "    </div>\n",
       "  </div>\n",
       "  "
      ],
      "text/plain": [
       "               ID     Target\n",
       "0   ID_1EB0DGFP07  26.220862\n",
       "1   ID_844T2PSXTK  39.863222\n",
       "2   ID_4MCV3S8MLN  39.037564\n",
       "3   ID_L7441JV5F3  41.643822\n",
       "4   ID_5GUVM4YEWZ  42.443223\n",
       "..            ...        ...\n",
       "85  ID_MEW6189J1B  54.941441\n",
       "86  ID_TH9HRUXGTP  47.551169\n",
       "87  ID_GPC7YS3JG8  55.395363\n",
       "88  ID_1P7PJMPV0R  35.624857\n",
       "89  ID_NTFSOIOEOG  55.988167\n",
       "\n",
       "[90 rows x 2 columns]"
      ]
     },
     "execution_count": 22,
     "metadata": {},
     "output_type": "execute_result"
    }
   ],
   "source": [
    "preds"
   ]
  }
 ],
 "metadata": {
  "colab": {
   "authorship_tag": "ABX9TyOihXjq07msZbeQcKWpSf4h",
   "mount_file_id": "1A8QpZiR1T7BX1Re4gixSxA2ju6cXFn4s",
   "provenance": []
  },
  "kernelspec": {
   "display_name": "Python 3 (ipykernel)",
   "language": "python",
   "name": "python3"
  },
  "language_info": {
   "codemirror_mode": {
    "name": "ipython",
    "version": 3
   },
   "file_extension": ".py",
   "mimetype": "text/x-python",
   "name": "python",
   "nbconvert_exporter": "python",
   "pygments_lexer": "ipython3",
   "version": "3.10.6"
  }
 },
 "nbformat": 4,
 "nbformat_minor": 4
}
